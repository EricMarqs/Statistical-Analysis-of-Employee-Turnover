{
 "cells": [
  {
   "cell_type": "markdown",
   "metadata": {},
   "source": [
    "# **Statistical Analysis of Employee Turnover** \n"
   ]
  },
  {
   "cell_type": "markdown",
   "metadata": {},
   "source": [
    "## **1. Descrição geral do problema** ##"
   ]
  },
  {
   "cell_type": "markdown",
   "metadata": {},
   "source": [
    "---\n",
    "\n",
    "![IBM](https://w7.pngwing.com/pngs/180/10/png-transparent-ibm-logo-management-business-innovation-ibm-blue-angle-company-thumbnail.png)\n",
    "\n",
    "\n",
    "Nos últimos anos, pesquisas indicam que a [taxa de pedidos de demissão voluntária aumentou consideravelmente](https://www.infomoney.com.br/minhas-financas/pedidos-de-demissao-crescem-14-e-chegam-a-42-milhoes-no-primeiro-semestre/). Para que as empresas possam reduzir esses índices, é essencial primeiro compreender os motivos subjacentes a esse fenômeno.\n",
    "\n",
    "Prevenir demissões voluntárias é crucial. A implementação de sistemas de análise de dados pode ajudar a prever possíveis insatisfações entre os funcionários. Isso não apenas minimiza custos associados a processos de seleção extensos, mas também reduz o tempo necessário para a adaptação de novos colaboradores às diretrizes da empresa.\n",
    "\n",
    "O aumento nos pedidos de demissão pode acarretar diversas consequências negativas para as organizações, incluindo:\n",
    "\n",
    "* Interrupção das Operações: A frequência nas demissões pode levar a interrupções nos fluxos de trabalho e em projetos em andamento, afetando a produtividade e a eficiência.\n",
    "* Aumento da Carga de Trabalho: Funcionários que permanecem podem ser sobrecarregados com responsabilidades adicionais, o que pode resultar em aumento da carga de trabalho e potencialmente em burnout.\n",
    "* Despesas com Indenizações e Benefícios: Em algumas situações, a saída de funcionários pode gerar custos adicionais com indenizações e benefícios, especialmente se a demissão não for voluntária.\n",
    "* Para a realização deste projeto, utilizaremos um conjunto de dados obtido a partir de um relatório sobre funcionários que está disponível ao público há vários anos. Este conjunto de dados oferece informações valiosas que podem impactar diretamente a satisfação no trabalho e as possíveis motivações para pedidos de demissão.\n",
    "\n",
    "Os dados são fornecidos gratuitamente pelo [Kaggle](https://www.kaggle.com/datasets/pavansubhasht/ibm-hr-analytics-attrition-dataset/data), sendo um conjunto fictício criado por cientistas de dados da IBM.\n",
    "\n",
    "**Objetivo**: Este projeto visa entender a variável **Attrition** por meio de uma análise estatística, com o intuito de identificar as principais motivações por trás dos pedidos de demissão contidos neste banco de dados."
   ]
  },
  {
   "cell_type": "markdown",
   "metadata": {},
   "source": [
    "## **2. Carregando Dados** ##"
   ]
  },
  {
   "cell_type": "markdown",
   "metadata": {},
   "source": [
    "### **2.1 Importando Bibliotecas Necessárias** ###"
   ]
  },
  {
   "cell_type": "markdown",
   "metadata": {},
   "source": [
    "Aqui vamos começar importando as bibliotecas utilizadas durante toda a análise estatística desse projeto."
   ]
  },
  {
   "cell_type": "code",
   "execution_count": 4,
   "metadata": {},
   "outputs": [],
   "source": [
    "# Importando bibliotecas\n",
    "\n",
    "import pandas as pd # Para manipulação de dados\n",
    "import numpy as np # Para manipulações matemáticas\n",
    "import sklearn # Para Machile Learning e testes estatísticos\n",
    "import matplotlib.pyplot as plt # Para plotagem de gráficos\n",
    "import seaborn as sns # Para plotagem de gráficos\n",
    "from scipy.stats import shapiro # Para análise estatística\n",
    "from scipy.stats import mannwhitneyu # Para análise estatística\n",
    "from sklearn.impute import KNNImputer # Para análise estatística\n",
    "from sklearn.preprocessing import StandardScaler # Para padronização dos dados\n",
    "from sklearn.ensemble import RandomForestClassifier # Para gerar algorítmo de Florestas Aleatórias"
   ]
  },
  {
   "cell_type": "markdown",
   "metadata": {},
   "source": [
    "### **2.2 Carregando os dados** ###\n"
   ]
  },
  {
   "cell_type": "code",
   "execution_count": 5,
   "metadata": {},
   "outputs": [],
   "source": [
    "# Carregando o dataset na memórica\n",
    "dataset = pd.read_csv('/Users/ericalmeidamarqsicloud.com/Estudo/Portfólio/Statistical-Analysis-of-Employee-Turnover/datasets/ibm_analytics.csv')"
   ]
  },
  {
   "cell_type": "code",
   "execution_count": 6,
   "metadata": {},
   "outputs": [
    {
     "data": {
      "text/plain": [
       "(23058, 30)"
      ]
     },
     "execution_count": 6,
     "metadata": {},
     "output_type": "execute_result"
    }
   ],
   "source": [
    "# Verificando o tamanho do dataset\n",
    "dataset.shape"
   ]
  },
  {
   "cell_type": "code",
   "execution_count": 7,
   "metadata": {},
   "outputs": [
    {
     "data": {
      "text/html": [
       "<div>\n",
       "<style scoped>\n",
       "    .dataframe tbody tr th:only-of-type {\n",
       "        vertical-align: middle;\n",
       "    }\n",
       "\n",
       "    .dataframe tbody tr th {\n",
       "        vertical-align: top;\n",
       "    }\n",
       "\n",
       "    .dataframe thead th {\n",
       "        text-align: right;\n",
       "    }\n",
       "</style>\n",
       "<table border=\"1\" class=\"dataframe\">\n",
       "  <thead>\n",
       "    <tr style=\"text-align: right;\">\n",
       "      <th></th>\n",
       "      <th>Age</th>\n",
       "      <th>Attrition</th>\n",
       "      <th>BusinessTravel</th>\n",
       "      <th>Department</th>\n",
       "      <th>DistanceFromHome</th>\n",
       "      <th>Education</th>\n",
       "      <th>EducationField</th>\n",
       "      <th>EnvironmentSatisfaction</th>\n",
       "      <th>Gender</th>\n",
       "      <th>JobInvolvement</th>\n",
       "      <th>...</th>\n",
       "      <th>StockOptionLevel</th>\n",
       "      <th>TotalWorkingYears</th>\n",
       "      <th>TrainingTimesLastYear</th>\n",
       "      <th>WorkLifeBalance</th>\n",
       "      <th>YearsAtCompany</th>\n",
       "      <th>YearsInCurrentRole</th>\n",
       "      <th>YearsSinceLastPromotion</th>\n",
       "      <th>YearsWithCurrManager</th>\n",
       "      <th>Employee Source</th>\n",
       "      <th>AgeStartedWorking</th>\n",
       "    </tr>\n",
       "  </thead>\n",
       "  <tbody>\n",
       "    <tr>\n",
       "      <th>0</th>\n",
       "      <td>41</td>\n",
       "      <td>Voluntary Resignation</td>\n",
       "      <td>Travel_Rarely</td>\n",
       "      <td>Sales</td>\n",
       "      <td>1</td>\n",
       "      <td>2</td>\n",
       "      <td>Life Sciences</td>\n",
       "      <td>2</td>\n",
       "      <td>Female</td>\n",
       "      <td>3</td>\n",
       "      <td>...</td>\n",
       "      <td>0</td>\n",
       "      <td>8</td>\n",
       "      <td>0</td>\n",
       "      <td>1</td>\n",
       "      <td>6</td>\n",
       "      <td>4</td>\n",
       "      <td>0</td>\n",
       "      <td>5</td>\n",
       "      <td>Referral</td>\n",
       "      <td>33</td>\n",
       "    </tr>\n",
       "    <tr>\n",
       "      <th>1</th>\n",
       "      <td>37</td>\n",
       "      <td>Voluntary Resignation</td>\n",
       "      <td>Travel_Rarely</td>\n",
       "      <td>Human Resources</td>\n",
       "      <td>6</td>\n",
       "      <td>4</td>\n",
       "      <td>Human Resources</td>\n",
       "      <td>1</td>\n",
       "      <td>Female</td>\n",
       "      <td>3</td>\n",
       "      <td>...</td>\n",
       "      <td>0</td>\n",
       "      <td>8</td>\n",
       "      <td>0</td>\n",
       "      <td>1</td>\n",
       "      <td>6</td>\n",
       "      <td>4</td>\n",
       "      <td>0</td>\n",
       "      <td>5</td>\n",
       "      <td>Referral</td>\n",
       "      <td>29</td>\n",
       "    </tr>\n",
       "    <tr>\n",
       "      <th>2</th>\n",
       "      <td>41</td>\n",
       "      <td>Voluntary Resignation</td>\n",
       "      <td>Travel_Rarely</td>\n",
       "      <td>Sales</td>\n",
       "      <td>1</td>\n",
       "      <td>2</td>\n",
       "      <td>Life Sciences</td>\n",
       "      <td>2</td>\n",
       "      <td>Female</td>\n",
       "      <td>3</td>\n",
       "      <td>...</td>\n",
       "      <td>0</td>\n",
       "      <td>8</td>\n",
       "      <td>0</td>\n",
       "      <td>1</td>\n",
       "      <td>6</td>\n",
       "      <td>4</td>\n",
       "      <td>0</td>\n",
       "      <td>5</td>\n",
       "      <td>Referral</td>\n",
       "      <td>33</td>\n",
       "    </tr>\n",
       "    <tr>\n",
       "      <th>3</th>\n",
       "      <td>37</td>\n",
       "      <td>Voluntary Resignation</td>\n",
       "      <td>Travel_Rarely</td>\n",
       "      <td>Human Resources</td>\n",
       "      <td>6</td>\n",
       "      <td>4</td>\n",
       "      <td>Marketing</td>\n",
       "      <td>1</td>\n",
       "      <td>Female</td>\n",
       "      <td>3</td>\n",
       "      <td>...</td>\n",
       "      <td>0</td>\n",
       "      <td>8</td>\n",
       "      <td>0</td>\n",
       "      <td>1</td>\n",
       "      <td>6</td>\n",
       "      <td>4</td>\n",
       "      <td>0</td>\n",
       "      <td>5</td>\n",
       "      <td>Referral</td>\n",
       "      <td>29</td>\n",
       "    </tr>\n",
       "    <tr>\n",
       "      <th>4</th>\n",
       "      <td>37</td>\n",
       "      <td>Voluntary Resignation</td>\n",
       "      <td>Travel_Rarely</td>\n",
       "      <td>Human Resources</td>\n",
       "      <td>6</td>\n",
       "      <td>4</td>\n",
       "      <td>Human Resources</td>\n",
       "      <td>1</td>\n",
       "      <td>Female</td>\n",
       "      <td>3</td>\n",
       "      <td>...</td>\n",
       "      <td>0</td>\n",
       "      <td>8</td>\n",
       "      <td>0</td>\n",
       "      <td>1</td>\n",
       "      <td>6</td>\n",
       "      <td>4</td>\n",
       "      <td>0</td>\n",
       "      <td>5</td>\n",
       "      <td>Referral</td>\n",
       "      <td>29</td>\n",
       "    </tr>\n",
       "  </tbody>\n",
       "</table>\n",
       "<p>5 rows × 30 columns</p>\n",
       "</div>"
      ],
      "text/plain": [
       "   Age              Attrition  BusinessTravel       Department  \\\n",
       "0   41  Voluntary Resignation   Travel_Rarely            Sales   \n",
       "1   37  Voluntary Resignation   Travel_Rarely  Human Resources   \n",
       "2   41  Voluntary Resignation   Travel_Rarely            Sales   \n",
       "3   37  Voluntary Resignation   Travel_Rarely  Human Resources   \n",
       "4   37  Voluntary Resignation   Travel_Rarely  Human Resources   \n",
       "\n",
       "   DistanceFromHome  Education   EducationField  EnvironmentSatisfaction  \\\n",
       "0                 1          2    Life Sciences                        2   \n",
       "1                 6          4  Human Resources                        1   \n",
       "2                 1          2    Life Sciences                        2   \n",
       "3                 6          4        Marketing                        1   \n",
       "4                 6          4  Human Resources                        1   \n",
       "\n",
       "   Gender  JobInvolvement  ...  StockOptionLevel TotalWorkingYears  \\\n",
       "0  Female               3  ...                 0                 8   \n",
       "1  Female               3  ...                 0                 8   \n",
       "2  Female               3  ...                 0                 8   \n",
       "3  Female               3  ...                 0                 8   \n",
       "4  Female               3  ...                 0                 8   \n",
       "\n",
       "    TrainingTimesLastYear WorkLifeBalance  YearsAtCompany  YearsInCurrentRole  \\\n",
       "0                       0               1               6                   4   \n",
       "1                       0               1               6                   4   \n",
       "2                       0               1               6                   4   \n",
       "3                       0               1               6                   4   \n",
       "4                       0               1               6                   4   \n",
       "\n",
       "  YearsSinceLastPromotion  YearsWithCurrManager  Employee Source    \\\n",
       "0                       0                     5           Referral   \n",
       "1                       0                     5           Referral   \n",
       "2                       0                     5           Referral   \n",
       "3                       0                     5           Referral   \n",
       "4                       0                     5           Referral   \n",
       "\n",
       "   AgeStartedWorking   \n",
       "0                  33  \n",
       "1                  29  \n",
       "2                  33  \n",
       "3                  29  \n",
       "4                  29  \n",
       "\n",
       "[5 rows x 30 columns]"
      ]
     },
     "execution_count": 7,
     "metadata": {},
     "output_type": "execute_result"
    }
   ],
   "source": [
    "# Visualizando as 5 primeiras linhas do dataset \n",
    "dataset.head(5)"
   ]
  },
  {
   "cell_type": "markdown",
   "metadata": {},
   "source": [
    "## **3. Preparando os dados para Análise Exploratória** "
   ]
  },
  {
   "cell_type": "markdown",
   "metadata": {},
   "source": [
    "### **3.1 Contruindo o Dicionário de Dados**"
   ]
  },
  {
   "cell_type": "code",
   "execution_count": 8,
   "metadata": {},
   "outputs": [],
   "source": [
    "dados_dict = {\n",
    "    \"Age\": \"Idade do funcionário.\",\n",
    "    \"Attrition\": \"Tipo de atrito (demissão voluntária, etc.).\",\n",
    "    \"BusinessTravel\": \"Frequência de viagens a negócios.\",\n",
    "    \"Department\": \"Departamento de trabalho.\",\n",
    "    \"DistanceFromHome\": \"Distância de casa ao trabalho.\",\n",
    "    \"Education\": \"Nível de educação.\",\n",
    "    \"EducationField\": \"Área de estudo.\",\n",
    "    \"EnvironmentSatisfaction\": \"Satisfação com o ambiente de trabalho.\",\n",
    "    \"Gender\": \"Gênero do funcionário.\",\n",
    "    \"JobInvolvement\": \"Envolvimento no trabalho.\",\n",
    "    \"JobLevel\": \"Nível do trabalho.\",\n",
    "    \"JobRole\": \"Função do trabalho.\",\n",
    "    \"JobSatisfaction\": \"Satisfação com o trabalho.\",\n",
    "    \"MaritalStatus\": \"Estado civil.\",\n",
    "    \"MonthlyIncome\": \"Renda mensal.\",\n",
    "    \"NumCompaniesWorked\": \"Número de empresas em que já trabalhou.\",\n",
    "    \"Over18\": \"Se o funcionário é maior de 18 anos.\",\n",
    "    \"OverTime\": \"Se faz hora extra.\",\n",
    "    \"PercentSalaryHike\": \"Percentual de aumento salarial.\",\n",
    "    \"PerformanceRating\": \"Avaliação de desempenho.\",\n",
    "    \"RelationshipSatisfaction\": \"Satisfação com os relacionamentos no trabalho.\",\n",
    "    \"StandardHours\": \"Horas padrão de trabalho.\",\n",
    "    \"StockOptionLevel\": \"Nível de opções de ações.\",\n",
    "    \"TotalWorkingYears\": \"Total de anos trabalhados.\",\n",
    "    \"TrainingTimesLastYear\": \"Número de treinamentos no último ano.\",\n",
    "    \"WorkLifeBalance\": \"Equilíbrio entre vida pessoal e profissional.\",\n",
    "    \"YearsAtCompany\": \"Anos na empresa.\",\n",
    "    \"YearsInCurrentRole\": \"Anos na função atual.\",\n",
    "    \"YearsSinceLastPromotion\": \"Anos desde a última promoção.\",\n",
    "    \"YearsWithCurrManager\": \"Anos com o gerente atual.\",\n",
    "    \"Employee Source\": \"Fonte do funcionário (por exemplo, indicação).\",\n",
    "    \"AgeStartedWorking\": \"Idade em que começou a trabalhar.\"\n",
    "}"
   ]
  },
  {
   "cell_type": "code",
   "execution_count": 9,
   "metadata": {},
   "outputs": [
    {
     "data": {
      "text/plain": [
       "'Frequência de viagens a negócios.'"
      ]
     },
     "execution_count": 9,
     "metadata": {},
     "output_type": "execute_result"
    }
   ],
   "source": [
    "# Verificando a descrição de uma variável\n",
    "dados_dict['BusinessTravel']"
   ]
  },
  {
   "cell_type": "markdown",
   "metadata": {},
   "source": [
    "### **3.1 Fazendo a limpeza e organização dos dados**"
   ]
  },
  {
   "cell_type": "code",
   "execution_count": 10,
   "metadata": {},
   "outputs": [
    {
     "name": "stdout",
     "output_type": "stream",
     "text": [
      "<class 'pandas.core.frame.DataFrame'>\n",
      "RangeIndex: 23058 entries, 0 to 23057\n",
      "Data columns (total 30 columns):\n",
      " #   Column                    Non-Null Count  Dtype \n",
      "---  ------                    --------------  ----- \n",
      " 0   Age                       23058 non-null  int64 \n",
      " 1   Attrition                 23058 non-null  object\n",
      " 2    BusinessTravel           23058 non-null  object\n",
      " 3   Department                23058 non-null  object\n",
      " 4   DistanceFromHome          23058 non-null  int64 \n",
      " 5   Education                 23058 non-null  int64 \n",
      " 6   EducationField            23058 non-null  object\n",
      " 7   EnvironmentSatisfaction   23058 non-null  int64 \n",
      " 8   Gender                    23058 non-null  object\n",
      " 9   JobInvolvement            23058 non-null  int64 \n",
      " 10  JobLevel                  23058 non-null  int64 \n",
      " 11  JobRole                   23058 non-null  object\n",
      " 12  JobSatisfaction           23058 non-null  int64 \n",
      " 13  MaritalStatus             23058 non-null  object\n",
      " 14  MonthlyIncome             23058 non-null  int64 \n",
      " 15  NumCompaniesWorked        23058 non-null  int64 \n",
      " 16  OverTime                  23058 non-null  object\n",
      " 17   PercentSalaryHike        23058 non-null  int64 \n",
      " 18  PerformanceRating         23058 non-null  int64 \n",
      " 19  RelationshipSatisfaction  23058 non-null  int64 \n",
      " 20  StockOptionLevel          23058 non-null  int64 \n",
      " 21  TotalWorkingYears         23058 non-null  int64 \n",
      " 22   TrainingTimesLastYear    23058 non-null  int64 \n",
      " 23  WorkLifeBalance           23058 non-null  int64 \n",
      " 24  YearsAtCompany            23058 non-null  int64 \n",
      " 25  YearsInCurrentRole        23058 non-null  int64 \n",
      " 26  YearsSinceLastPromotion   23058 non-null  int64 \n",
      " 27  YearsWithCurrManager      23058 non-null  int64 \n",
      " 28  Employee Source           23058 non-null  object\n",
      " 29  AgeStartedWorking         23058 non-null  int64 \n",
      "dtypes: int64(21), object(9)\n",
      "memory usage: 5.3+ MB\n"
     ]
    }
   ],
   "source": [
    "# Verificando o tipo de cada varíavel\n",
    "dataset.info()"
   ]
  },
  {
   "cell_type": "markdown",
   "metadata": {},
   "source": [
    "* Alguns títulos estão fora da formatação, como **\"BusinessTravel\"**. Vamos resolver"
   ]
  },
  {
   "cell_type": "code",
   "execution_count": 11,
   "metadata": {},
   "outputs": [],
   "source": [
    "# Retirando o espaço dos títulos\n",
    "dataset.columns = dataset.columns.str.replace(' ', '')"
   ]
  },
  {
   "cell_type": "code",
   "execution_count": 12,
   "metadata": {},
   "outputs": [
    {
     "data": {
      "text/plain": [
       "Index(['Age', 'Attrition', 'BusinessTravel', 'Department', 'DistanceFromHome',\n",
       "       'Education', 'EducationField', 'EnvironmentSatisfaction', 'Gender',\n",
       "       'JobInvolvement', 'JobLevel', 'JobRole', 'JobSatisfaction',\n",
       "       'MaritalStatus', 'MonthlyIncome', 'NumCompaniesWorked', 'OverTime',\n",
       "       'PercentSalaryHike', 'PerformanceRating', 'RelationshipSatisfaction',\n",
       "       'StockOptionLevel', 'TotalWorkingYears', 'TrainingTimesLastYear',\n",
       "       'WorkLifeBalance', 'YearsAtCompany', 'YearsInCurrentRole',\n",
       "       'YearsSinceLastPromotion', 'YearsWithCurrManager', 'EmployeeSource',\n",
       "       'AgeStartedWorking'],\n",
       "      dtype='object')"
      ]
     },
     "execution_count": 12,
     "metadata": {},
     "output_type": "execute_result"
    }
   ],
   "source": [
    "dataset.columns"
   ]
  },
  {
   "cell_type": "code",
   "execution_count": 13,
   "metadata": {},
   "outputs": [
    {
     "name": "stdout",
     "output_type": "stream",
     "text": [
      "Age                         0\n",
      "Attrition                   0\n",
      "EmployeeSource              0\n",
      "YearsWithCurrManager        0\n",
      "YearsSinceLastPromotion     0\n",
      "YearsInCurrentRole          0\n",
      "YearsAtCompany              0\n",
      "WorkLifeBalance             0\n",
      "TrainingTimesLastYear       0\n",
      "TotalWorkingYears           0\n",
      "StockOptionLevel            0\n",
      "RelationshipSatisfaction    0\n",
      "PerformanceRating           0\n",
      "PercentSalaryHike           0\n",
      "OverTime                    0\n",
      "NumCompaniesWorked          0\n",
      "MonthlyIncome               0\n",
      "MaritalStatus               0\n",
      "JobSatisfaction             0\n",
      "JobRole                     0\n",
      "JobLevel                    0\n",
      "JobInvolvement              0\n",
      "Gender                      0\n",
      "EnvironmentSatisfaction     0\n",
      "EducationField              0\n",
      "Education                   0\n",
      "DistanceFromHome            0\n",
      "Department                  0\n",
      "BusinessTravel              0\n",
      "AgeStartedWorking           0\n",
      "dtype: int64\n"
     ]
    }
   ],
   "source": [
    "# Verificando a existência de valores ausentes no dataset\n",
    "valores_ausentes = dataset.isnull().sum().sort_values(ascending = False)\n",
    "print(valores_ausentes)"
   ]
  },
  {
   "cell_type": "markdown",
   "metadata": {},
   "source": [
    "### **3.2 Entendendo a variável alvo**"
   ]
  },
  {
   "cell_type": "code",
   "execution_count": 14,
   "metadata": {},
   "outputs": [
    {
     "data": {
      "text/plain": [
       "Current employee         19370\n",
       "Voluntary Resignation     3601\n",
       "Termination                 87\n",
       "Name: Attrition, dtype: int64"
      ]
     },
     "execution_count": 14,
     "metadata": {},
     "output_type": "execute_result"
    }
   ],
   "source": [
    "dataset['Attrition'].value_counts()"
   ]
  },
  {
   "cell_type": "markdown",
   "metadata": {},
   "source": [
    "## **4. Análise Exploratória**"
   ]
  },
  {
   "cell_type": "markdown",
   "metadata": {},
   "source": [
    "### **4.1 Verificando se existem outliers nas variáveis numéricas**"
   ]
  },
  {
   "cell_type": "code",
   "execution_count": 16,
   "metadata": {},
   "outputs": [
    {
     "data": {
      "text/html": [
       "<div>\n",
       "<style scoped>\n",
       "    .dataframe tbody tr th:only-of-type {\n",
       "        vertical-align: middle;\n",
       "    }\n",
       "\n",
       "    .dataframe tbody tr th {\n",
       "        vertical-align: top;\n",
       "    }\n",
       "\n",
       "    .dataframe thead th {\n",
       "        text-align: right;\n",
       "    }\n",
       "</style>\n",
       "<table border=\"1\" class=\"dataframe\">\n",
       "  <thead>\n",
       "    <tr style=\"text-align: right;\">\n",
       "      <th></th>\n",
       "      <th>Age</th>\n",
       "      <th>DistanceFromHome</th>\n",
       "      <th>Education</th>\n",
       "      <th>EnvironmentSatisfaction</th>\n",
       "      <th>JobInvolvement</th>\n",
       "      <th>JobLevel</th>\n",
       "      <th>JobSatisfaction</th>\n",
       "      <th>MonthlyIncome</th>\n",
       "      <th>NumCompaniesWorked</th>\n",
       "      <th>PercentSalaryHike</th>\n",
       "      <th>...</th>\n",
       "      <th>RelationshipSatisfaction</th>\n",
       "      <th>StockOptionLevel</th>\n",
       "      <th>TotalWorkingYears</th>\n",
       "      <th>TrainingTimesLastYear</th>\n",
       "      <th>WorkLifeBalance</th>\n",
       "      <th>YearsAtCompany</th>\n",
       "      <th>YearsInCurrentRole</th>\n",
       "      <th>YearsSinceLastPromotion</th>\n",
       "      <th>YearsWithCurrManager</th>\n",
       "      <th>AgeStartedWorking</th>\n",
       "    </tr>\n",
       "  </thead>\n",
       "  <tbody>\n",
       "    <tr>\n",
       "      <th>count</th>\n",
       "      <td>23058.000000</td>\n",
       "      <td>23058.000000</td>\n",
       "      <td>23058.000000</td>\n",
       "      <td>23058.000000</td>\n",
       "      <td>23058.000000</td>\n",
       "      <td>23058.000000</td>\n",
       "      <td>23058.000000</td>\n",
       "      <td>23058.000000</td>\n",
       "      <td>23058.000000</td>\n",
       "      <td>23058.000000</td>\n",
       "      <td>...</td>\n",
       "      <td>23058.000000</td>\n",
       "      <td>23058.000000</td>\n",
       "      <td>23058.000000</td>\n",
       "      <td>23058.000000</td>\n",
       "      <td>23058.000000</td>\n",
       "      <td>23058.000000</td>\n",
       "      <td>23058.000000</td>\n",
       "      <td>23058.000000</td>\n",
       "      <td>23058.000000</td>\n",
       "      <td>23058.000000</td>\n",
       "    </tr>\n",
       "    <tr>\n",
       "      <th>mean</th>\n",
       "      <td>37.035562</td>\n",
       "      <td>9.215413</td>\n",
       "      <td>2.914693</td>\n",
       "      <td>2.720054</td>\n",
       "      <td>2.730115</td>\n",
       "      <td>2.043846</td>\n",
       "      <td>2.724738</td>\n",
       "      <td>6415.708561</td>\n",
       "      <td>2.690693</td>\n",
       "      <td>15.215630</td>\n",
       "      <td>...</td>\n",
       "      <td>2.712768</td>\n",
       "      <td>0.794431</td>\n",
       "      <td>11.074941</td>\n",
       "      <td>2.804016</td>\n",
       "      <td>2.761688</td>\n",
       "      <td>6.910053</td>\n",
       "      <td>4.200755</td>\n",
       "      <td>2.164238</td>\n",
       "      <td>4.091335</td>\n",
       "      <td>25.960621</td>\n",
       "    </tr>\n",
       "    <tr>\n",
       "      <th>std</th>\n",
       "      <td>9.050759</td>\n",
       "      <td>8.106362</td>\n",
       "      <td>1.024470</td>\n",
       "      <td>1.094684</td>\n",
       "      <td>0.709159</td>\n",
       "      <td>1.089296</td>\n",
       "      <td>1.103915</td>\n",
       "      <td>4627.871795</td>\n",
       "      <td>2.499755</td>\n",
       "      <td>3.658836</td>\n",
       "      <td>...</td>\n",
       "      <td>1.081825</td>\n",
       "      <td>0.850228</td>\n",
       "      <td>7.565958</td>\n",
       "      <td>1.289432</td>\n",
       "      <td>0.706891</td>\n",
       "      <td>5.969888</td>\n",
       "      <td>3.609138</td>\n",
       "      <td>3.200890</td>\n",
       "      <td>3.548117</td>\n",
       "      <td>9.384428</td>\n",
       "    </tr>\n",
       "    <tr>\n",
       "      <th>min</th>\n",
       "      <td>18.000000</td>\n",
       "      <td>1.000000</td>\n",
       "      <td>1.000000</td>\n",
       "      <td>1.000000</td>\n",
       "      <td>1.000000</td>\n",
       "      <td>1.000000</td>\n",
       "      <td>1.000000</td>\n",
       "      <td>1009.000000</td>\n",
       "      <td>0.000000</td>\n",
       "      <td>11.000000</td>\n",
       "      <td>...</td>\n",
       "      <td>1.000000</td>\n",
       "      <td>0.000000</td>\n",
       "      <td>0.000000</td>\n",
       "      <td>0.000000</td>\n",
       "      <td>1.000000</td>\n",
       "      <td>0.000000</td>\n",
       "      <td>0.000000</td>\n",
       "      <td>0.000000</td>\n",
       "      <td>0.000000</td>\n",
       "      <td>0.000000</td>\n",
       "    </tr>\n",
       "    <tr>\n",
       "      <th>25%</th>\n",
       "      <td>30.000000</td>\n",
       "      <td>2.000000</td>\n",
       "      <td>2.000000</td>\n",
       "      <td>2.000000</td>\n",
       "      <td>2.000000</td>\n",
       "      <td>1.000000</td>\n",
       "      <td>2.000000</td>\n",
       "      <td>2900.250000</td>\n",
       "      <td>1.000000</td>\n",
       "      <td>12.000000</td>\n",
       "      <td>...</td>\n",
       "      <td>2.000000</td>\n",
       "      <td>0.000000</td>\n",
       "      <td>6.000000</td>\n",
       "      <td>2.000000</td>\n",
       "      <td>2.000000</td>\n",
       "      <td>3.000000</td>\n",
       "      <td>2.000000</td>\n",
       "      <td>0.000000</td>\n",
       "      <td>2.000000</td>\n",
       "      <td>20.000000</td>\n",
       "    </tr>\n",
       "    <tr>\n",
       "      <th>50%</th>\n",
       "      <td>36.000000</td>\n",
       "      <td>7.000000</td>\n",
       "      <td>3.000000</td>\n",
       "      <td>3.000000</td>\n",
       "      <td>3.000000</td>\n",
       "      <td>2.000000</td>\n",
       "      <td>3.000000</td>\n",
       "      <td>4898.000000</td>\n",
       "      <td>2.000000</td>\n",
       "      <td>14.000000</td>\n",
       "      <td>...</td>\n",
       "      <td>3.000000</td>\n",
       "      <td>1.000000</td>\n",
       "      <td>10.000000</td>\n",
       "      <td>3.000000</td>\n",
       "      <td>3.000000</td>\n",
       "      <td>5.000000</td>\n",
       "      <td>3.000000</td>\n",
       "      <td>1.000000</td>\n",
       "      <td>3.000000</td>\n",
       "      <td>25.000000</td>\n",
       "    </tr>\n",
       "    <tr>\n",
       "      <th>75%</th>\n",
       "      <td>43.000000</td>\n",
       "      <td>14.000000</td>\n",
       "      <td>4.000000</td>\n",
       "      <td>4.000000</td>\n",
       "      <td>3.000000</td>\n",
       "      <td>3.000000</td>\n",
       "      <td>4.000000</td>\n",
       "      <td>8120.000000</td>\n",
       "      <td>4.000000</td>\n",
       "      <td>18.000000</td>\n",
       "      <td>...</td>\n",
       "      <td>4.000000</td>\n",
       "      <td>1.000000</td>\n",
       "      <td>15.000000</td>\n",
       "      <td>3.000000</td>\n",
       "      <td>3.000000</td>\n",
       "      <td>9.000000</td>\n",
       "      <td>7.000000</td>\n",
       "      <td>3.000000</td>\n",
       "      <td>7.000000</td>\n",
       "      <td>31.000000</td>\n",
       "    </tr>\n",
       "    <tr>\n",
       "      <th>max</th>\n",
       "      <td>60.000000</td>\n",
       "      <td>29.000000</td>\n",
       "      <td>5.000000</td>\n",
       "      <td>4.000000</td>\n",
       "      <td>4.000000</td>\n",
       "      <td>5.000000</td>\n",
       "      <td>4.000000</td>\n",
       "      <td>19999.000000</td>\n",
       "      <td>9.000000</td>\n",
       "      <td>25.000000</td>\n",
       "      <td>...</td>\n",
       "      <td>4.000000</td>\n",
       "      <td>3.000000</td>\n",
       "      <td>40.000000</td>\n",
       "      <td>6.000000</td>\n",
       "      <td>4.000000</td>\n",
       "      <td>40.000000</td>\n",
       "      <td>18.000000</td>\n",
       "      <td>15.000000</td>\n",
       "      <td>17.000000</td>\n",
       "      <td>60.000000</td>\n",
       "    </tr>\n",
       "  </tbody>\n",
       "</table>\n",
       "<p>8 rows × 21 columns</p>\n",
       "</div>"
      ],
      "text/plain": [
       "                Age  DistanceFromHome     Education  EnvironmentSatisfaction  \\\n",
       "count  23058.000000      23058.000000  23058.000000             23058.000000   \n",
       "mean      37.035562          9.215413      2.914693                 2.720054   \n",
       "std        9.050759          8.106362      1.024470                 1.094684   \n",
       "min       18.000000          1.000000      1.000000                 1.000000   \n",
       "25%       30.000000          2.000000      2.000000                 2.000000   \n",
       "50%       36.000000          7.000000      3.000000                 3.000000   \n",
       "75%       43.000000         14.000000      4.000000                 4.000000   \n",
       "max       60.000000         29.000000      5.000000                 4.000000   \n",
       "\n",
       "       JobInvolvement      JobLevel  JobSatisfaction  MonthlyIncome  \\\n",
       "count    23058.000000  23058.000000     23058.000000   23058.000000   \n",
       "mean         2.730115      2.043846         2.724738    6415.708561   \n",
       "std          0.709159      1.089296         1.103915    4627.871795   \n",
       "min          1.000000      1.000000         1.000000    1009.000000   \n",
       "25%          2.000000      1.000000         2.000000    2900.250000   \n",
       "50%          3.000000      2.000000         3.000000    4898.000000   \n",
       "75%          3.000000      3.000000         4.000000    8120.000000   \n",
       "max          4.000000      5.000000         4.000000   19999.000000   \n",
       "\n",
       "       NumCompaniesWorked  PercentSalaryHike  ...  RelationshipSatisfaction  \\\n",
       "count        23058.000000       23058.000000  ...              23058.000000   \n",
       "mean             2.690693          15.215630  ...                  2.712768   \n",
       "std              2.499755           3.658836  ...                  1.081825   \n",
       "min              0.000000          11.000000  ...                  1.000000   \n",
       "25%              1.000000          12.000000  ...                  2.000000   \n",
       "50%              2.000000          14.000000  ...                  3.000000   \n",
       "75%              4.000000          18.000000  ...                  4.000000   \n",
       "max              9.000000          25.000000  ...                  4.000000   \n",
       "\n",
       "       StockOptionLevel  TotalWorkingYears  TrainingTimesLastYear  \\\n",
       "count      23058.000000       23058.000000           23058.000000   \n",
       "mean           0.794431          11.074941               2.804016   \n",
       "std            0.850228           7.565958               1.289432   \n",
       "min            0.000000           0.000000               0.000000   \n",
       "25%            0.000000           6.000000               2.000000   \n",
       "50%            1.000000          10.000000               3.000000   \n",
       "75%            1.000000          15.000000               3.000000   \n",
       "max            3.000000          40.000000               6.000000   \n",
       "\n",
       "       WorkLifeBalance  YearsAtCompany  YearsInCurrentRole  \\\n",
       "count     23058.000000    23058.000000        23058.000000   \n",
       "mean          2.761688        6.910053            4.200755   \n",
       "std           0.706891        5.969888            3.609138   \n",
       "min           1.000000        0.000000            0.000000   \n",
       "25%           2.000000        3.000000            2.000000   \n",
       "50%           3.000000        5.000000            3.000000   \n",
       "75%           3.000000        9.000000            7.000000   \n",
       "max           4.000000       40.000000           18.000000   \n",
       "\n",
       "       YearsSinceLastPromotion  YearsWithCurrManager  AgeStartedWorking  \n",
       "count             23058.000000          23058.000000       23058.000000  \n",
       "mean                  2.164238              4.091335          25.960621  \n",
       "std                   3.200890              3.548117           9.384428  \n",
       "min                   0.000000              0.000000           0.000000  \n",
       "25%                   0.000000              2.000000          20.000000  \n",
       "50%                   1.000000              3.000000          25.000000  \n",
       "75%                   3.000000              7.000000          31.000000  \n",
       "max                  15.000000             17.000000          60.000000  \n",
       "\n",
       "[8 rows x 21 columns]"
      ]
     },
     "execution_count": 16,
     "metadata": {},
     "output_type": "execute_result"
    }
   ],
   "source": [
    "dataset.describe()"
   ]
  },
  {
   "cell_type": "markdown",
   "metadata": {},
   "source": [
    "Verificando a média e a mediana, podemos perceber que aparantemente não há outliers claros.\n",
    "\n",
    "Vamos plotar esses dados para analisar por outro ângulo."
   ]
  },
  {
   "cell_type": "code",
   "execution_count": 26,
   "metadata": {},
   "outputs": [],
   "source": [
    "# Selecionando somente os valores numéricos \n",
    "bloxplot_numbers = dataset.select_dtypes(include='number')"
   ]
  },
  {
   "cell_type": "code",
   "execution_count": 32,
   "metadata": {},
   "outputs": [
    {
     "data": {
      "image/png": "[encoded data removed]",
      "text/plain": [
       "<Figure size 1200x1400 with 25 Axes>"
      ]
     },
     "metadata": {},
     "output_type": "display_data"
    }
   ],
   "source": [
    "bloxplot_numbers.plot(subplots = True, layout = (5,5), kind = 'box', figsize = (12,14), patch_artist = True)\n",
    "plt.subplots_adjust(wspace=0.5);\n"
   ]
  },
  {
   "cell_type": "code",
   "execution_count": null,
   "metadata": {},
   "outputs": [],
   "source": []
  }
 ],
 "metadata": {
  "kernelspec": {
   "display_name": "base",
   "language": "python",
   "name": "python3"
  },
  "language_info": {
   "codemirror_mode": {
    "name": "ipython",
    "version": 3
   },
   "file_extension": ".py",
   "mimetype": "text/x-python",
   "name": "python",
   "nbconvert_exporter": "python",
   "pygments_lexer": "ipython3",
   "version": "3.9.13"
  }
 },
 "nbformat": 4,
 "nbformat_minor": 2
}
