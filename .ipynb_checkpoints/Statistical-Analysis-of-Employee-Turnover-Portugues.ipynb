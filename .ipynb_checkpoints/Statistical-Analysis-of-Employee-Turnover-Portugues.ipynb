{
 "cells": [
  {
   "cell_type": "markdown",
   "metadata": {},
   "source": [
    "# **Statistical Analysis of Employee Turnover**\n"
   ]
  },
  {
   "cell_type": "markdown",
   "metadata": {},
   "source": [
    "## **1. Descrição geral do problema** ##"
   ]
  },
  {
   "cell_type": "markdown",
   "metadata": {},
   "source": [
    "---\n",
    "\n",
    "![IBM](https://w7.pngwing.com/pngs/180/10/png-transparent-ibm-logo-management-business-innovation-ibm-blue-angle-company-thumbnail.png)\n",
    "\n",
    "\n",
    "Nos últimos anos, pesquisas indicam que a [taxa de pedidos de demissão voluntária aumentou consideravelmente](https://www.infomoney.com.br/minhas-financas/pedidos-de-demissao-crescem-14-e-chegam-a-42-milhoes-no-primeiro-semestre/). Para que as empresas possam reduzir esses índices, é essencial primeiro compreender os motivos subjacentes a esse fenômeno.\n",
    "\n",
    "Prevenir demissões voluntárias é crucial. A implementação de sistemas de análise de dados pode ajudar a prever possíveis insatisfações entre os funcionários. Isso não apenas minimiza custos associados a processos de seleção extensos, mas também reduz o tempo necessário para a adaptação de novos colaboradores às diretrizes da empresa.\n",
    "\n",
    "O aumento nos pedidos de demissão pode acarretar diversas consequências negativas para as organizações, incluindo:\n",
    "\n",
    "* Interrupção das Operações: A frequência nas demissões pode levar a interrupções nos fluxos de trabalho e em projetos em andamento, afetando a produtividade e a eficiência.\n",
    "* Aumento da Carga de Trabalho: Funcionários que permanecem podem ser sobrecarregados com responsabilidades adicionais, o que pode resultar em aumento da carga de trabalho e potencialmente em burnout.\n",
    "* Despesas com Indenizações e Benefícios: Em algumas situações, a saída de funcionários pode gerar custos adicionais com indenizações e benefícios, especialmente se a demissão não for voluntária.\n",
    "* Para a realização deste projeto, utilizaremos um conjunto de dados obtido a partir de um relatório sobre funcionários que está disponível ao público há vários anos. Este conjunto de dados oferece informações valiosas que podem impactar diretamente a satisfação no trabalho e as possíveis motivações para pedidos de demissão.\n",
    "\n",
    "Os dados são fornecidos gratuitamente pelo [Kaggle](https://www.kaggle.com/datasets/pavansubhasht/ibm-hr-analytics-attrition-dataset/data), sendo um conjunto fictício criado por cientistas de dados da IBM.\n",
    "\n",
    "**Objetivo**: Este projeto visa entender a variável **Attrition** por meio de uma análise estatística, com o intuito de identificar as principais motivações por trás dos pedidos de demissão contidos neste banco de dados."
   ]
  },
  {
   "cell_type": "markdown",
   "metadata": {},
   "source": [
    "## **2. Carregando Dados** ##"
   ]
  },
  {
   "cell_type": "markdown",
   "metadata": {},
   "source": [
    "### **2.1 Importando Bibliotecas Necessárias** ###"
   ]
  },
  {
   "cell_type": "markdown",
   "metadata": {},
   "source": [
    "Aqui vamos começar importando as bibliotecas utilizadas durante toda a análise estatística desse projeto."
   ]
  },
  {
   "cell_type": "code",
   "execution_count": null,
   "metadata": {},
   "outputs": [],
   "source": [
    "# Importando bibliotecas\n",
    "\n",
    "import pandas as pd # Para manipulação de dados\n",
    "import numpy as np # Para manipulações matemáticas\n",
    "import sklearn # Para Machile Learning e testes estatísticos\n",
    "import matplotlib.pyplot as plt # Para plotagem de gráficos\n",
    "import seaborn as sns # Para plotagem de gráficos\n",
    "from scipy.stats import shapiro # Para análise estatística\n",
    "from scipy.stats import mannwhitneyu # Para análise estatística\n",
    "from sklearn.impute import KNNImputer # Para análise estatística\n",
    "from sklearn.preprocessing import StandardScaler # Para padronização dos dados\n",
    "from sklearn.ensemble import RandomForestClassifier # Para gerar algorítmo de Florestas Aleatórias"
   ]
  },
  {
   "cell_type": "markdown",
   "metadata": {},
   "source": [
    "### **2.2 Carregando os dados** ###\n"
   ]
  },
  {
   "cell_type": "code",
   "execution_count": 9,
   "metadata": {},
   "outputs": [],
   "source": [
    "# Carregando o dataset na memórica\n",
    "dataset = pd.read_csv('/Users/ericalmeidamarqsicloud.com/Estudo/Portfólio/Statistical-Analysis-of-Employee-Turnover/datasets/ibm_analytics.csv')"
   ]
  },
  {
   "cell_type": "code",
   "execution_count": 12,
   "metadata": {},
   "outputs": [
    {
     "data": {
      "text/plain": [
       "(23058, 30)"
      ]
     },
     "execution_count": 12,
     "metadata": {},
     "output_type": "execute_result"
    }
   ],
   "source": [
    "# Verificando o tamanho do dataset\n",
    "dataset.shape"
   ]
  },
  {
   "cell_type": "code",
   "execution_count": 10,
   "metadata": {},
   "outputs": [
    {
     "data": {
      "text/html": [
       "<div>\n",
       "<style scoped>\n",
       "    .dataframe tbody tr th:only-of-type {\n",
       "        vertical-align: middle;\n",
       "    }\n",
       "\n",
       "    .dataframe tbody tr th {\n",
       "        vertical-align: top;\n",
       "    }\n",
       "\n",
       "    .dataframe thead th {\n",
       "        text-align: right;\n",
       "    }\n",
       "</style>\n",
       "<table border=\"1\" class=\"dataframe\">\n",
       "  <thead>\n",
       "    <tr style=\"text-align: right;\">\n",
       "      <th></th>\n",
       "      <th>Age</th>\n",
       "      <th>Attrition</th>\n",
       "      <th>BusinessTravel</th>\n",
       "      <th>Department</th>\n",
       "      <th>DistanceFromHome</th>\n",
       "      <th>Education</th>\n",
       "      <th>EducationField</th>\n",
       "      <th>EnvironmentSatisfaction</th>\n",
       "      <th>Gender</th>\n",
       "      <th>JobInvolvement</th>\n",
       "      <th>...</th>\n",
       "      <th>StockOptionLevel</th>\n",
       "      <th>TotalWorkingYears</th>\n",
       "      <th>TrainingTimesLastYear</th>\n",
       "      <th>WorkLifeBalance</th>\n",
       "      <th>YearsAtCompany</th>\n",
       "      <th>YearsInCurrentRole</th>\n",
       "      <th>YearsSinceLastPromotion</th>\n",
       "      <th>YearsWithCurrManager</th>\n",
       "      <th>Employee Source</th>\n",
       "      <th>AgeStartedWorking</th>\n",
       "    </tr>\n",
       "  </thead>\n",
       "  <tbody>\n",
       "    <tr>\n",
       "      <th>0</th>\n",
       "      <td>41</td>\n",
       "      <td>Voluntary Resignation</td>\n",
       "      <td>Travel_Rarely</td>\n",
       "      <td>Sales</td>\n",
       "      <td>1</td>\n",
       "      <td>2</td>\n",
       "      <td>Life Sciences</td>\n",
       "      <td>2</td>\n",
       "      <td>Female</td>\n",
       "      <td>3</td>\n",
       "      <td>...</td>\n",
       "      <td>0</td>\n",
       "      <td>8</td>\n",
       "      <td>0</td>\n",
       "      <td>1</td>\n",
       "      <td>6</td>\n",
       "      <td>4</td>\n",
       "      <td>0</td>\n",
       "      <td>5</td>\n",
       "      <td>Referral</td>\n",
       "      <td>33</td>\n",
       "    </tr>\n",
       "    <tr>\n",
       "      <th>1</th>\n",
       "      <td>37</td>\n",
       "      <td>Voluntary Resignation</td>\n",
       "      <td>Travel_Rarely</td>\n",
       "      <td>Human Resources</td>\n",
       "      <td>6</td>\n",
       "      <td>4</td>\n",
       "      <td>Human Resources</td>\n",
       "      <td>1</td>\n",
       "      <td>Female</td>\n",
       "      <td>3</td>\n",
       "      <td>...</td>\n",
       "      <td>0</td>\n",
       "      <td>8</td>\n",
       "      <td>0</td>\n",
       "      <td>1</td>\n",
       "      <td>6</td>\n",
       "      <td>4</td>\n",
       "      <td>0</td>\n",
       "      <td>5</td>\n",
       "      <td>Referral</td>\n",
       "      <td>29</td>\n",
       "    </tr>\n",
       "    <tr>\n",
       "      <th>2</th>\n",
       "      <td>41</td>\n",
       "      <td>Voluntary Resignation</td>\n",
       "      <td>Travel_Rarely</td>\n",
       "      <td>Sales</td>\n",
       "      <td>1</td>\n",
       "      <td>2</td>\n",
       "      <td>Life Sciences</td>\n",
       "      <td>2</td>\n",
       "      <td>Female</td>\n",
       "      <td>3</td>\n",
       "      <td>...</td>\n",
       "      <td>0</td>\n",
       "      <td>8</td>\n",
       "      <td>0</td>\n",
       "      <td>1</td>\n",
       "      <td>6</td>\n",
       "      <td>4</td>\n",
       "      <td>0</td>\n",
       "      <td>5</td>\n",
       "      <td>Referral</td>\n",
       "      <td>33</td>\n",
       "    </tr>\n",
       "    <tr>\n",
       "      <th>3</th>\n",
       "      <td>37</td>\n",
       "      <td>Voluntary Resignation</td>\n",
       "      <td>Travel_Rarely</td>\n",
       "      <td>Human Resources</td>\n",
       "      <td>6</td>\n",
       "      <td>4</td>\n",
       "      <td>Marketing</td>\n",
       "      <td>1</td>\n",
       "      <td>Female</td>\n",
       "      <td>3</td>\n",
       "      <td>...</td>\n",
       "      <td>0</td>\n",
       "      <td>8</td>\n",
       "      <td>0</td>\n",
       "      <td>1</td>\n",
       "      <td>6</td>\n",
       "      <td>4</td>\n",
       "      <td>0</td>\n",
       "      <td>5</td>\n",
       "      <td>Referral</td>\n",
       "      <td>29</td>\n",
       "    </tr>\n",
       "    <tr>\n",
       "      <th>4</th>\n",
       "      <td>37</td>\n",
       "      <td>Voluntary Resignation</td>\n",
       "      <td>Travel_Rarely</td>\n",
       "      <td>Human Resources</td>\n",
       "      <td>6</td>\n",
       "      <td>4</td>\n",
       "      <td>Human Resources</td>\n",
       "      <td>1</td>\n",
       "      <td>Female</td>\n",
       "      <td>3</td>\n",
       "      <td>...</td>\n",
       "      <td>0</td>\n",
       "      <td>8</td>\n",
       "      <td>0</td>\n",
       "      <td>1</td>\n",
       "      <td>6</td>\n",
       "      <td>4</td>\n",
       "      <td>0</td>\n",
       "      <td>5</td>\n",
       "      <td>Referral</td>\n",
       "      <td>29</td>\n",
       "    </tr>\n",
       "  </tbody>\n",
       "</table>\n",
       "<p>5 rows × 30 columns</p>\n",
       "</div>"
      ],
      "text/plain": [
       "   Age              Attrition BusinessTravel       Department  \\\n",
       "0   41  Voluntary Resignation  Travel_Rarely            Sales   \n",
       "1   37  Voluntary Resignation  Travel_Rarely  Human Resources   \n",
       "2   41  Voluntary Resignation  Travel_Rarely            Sales   \n",
       "3   37  Voluntary Resignation  Travel_Rarely  Human Resources   \n",
       "4   37  Voluntary Resignation  Travel_Rarely  Human Resources   \n",
       "\n",
       "   DistanceFromHome  Education   EducationField  EnvironmentSatisfaction  \\\n",
       "0                 1          2    Life Sciences                        2   \n",
       "1                 6          4  Human Resources                        1   \n",
       "2                 1          2    Life Sciences                        2   \n",
       "3                 6          4        Marketing                        1   \n",
       "4                 6          4  Human Resources                        1   \n",
       "\n",
       "   Gender  JobInvolvement  ...  StockOptionLevel TotalWorkingYears  \\\n",
       "0  Female               3  ...                 0                 8   \n",
       "1  Female               3  ...                 0                 8   \n",
       "2  Female               3  ...                 0                 8   \n",
       "3  Female               3  ...                 0                 8   \n",
       "4  Female               3  ...                 0                 8   \n",
       "\n",
       "   TrainingTimesLastYear WorkLifeBalance  YearsAtCompany  YearsInCurrentRole  \\\n",
       "0                      0               1               6                   4   \n",
       "1                      0               1               6                   4   \n",
       "2                      0               1               6                   4   \n",
       "3                      0               1               6                   4   \n",
       "4                      0               1               6                   4   \n",
       "\n",
       "  YearsSinceLastPromotion  YearsWithCurrManager  Employee Source  \\\n",
       "0                       0                     5         Referral   \n",
       "1                       0                     5         Referral   \n",
       "2                       0                     5         Referral   \n",
       "3                       0                     5         Referral   \n",
       "4                       0                     5         Referral   \n",
       "\n",
       "   AgeStartedWorking   \n",
       "0                  33  \n",
       "1                  29  \n",
       "2                  33  \n",
       "3                  29  \n",
       "4                  29  \n",
       "\n",
       "[5 rows x 30 columns]"
      ]
     },
     "execution_count": 10,
     "metadata": {},
     "output_type": "execute_result"
    }
   ],
   "source": [
    "# Visualizando as 5 primeiras linhas do dataset \n",
    "dataset.head(5)"
   ]
  },
  {
   "cell_type": "code",
   "execution_count": 13,
   "metadata": {},
   "outputs": [
    {
     "name": "stdout",
     "output_type": "stream",
     "text": [
      "<class 'pandas.core.frame.DataFrame'>\n",
      "RangeIndex: 23058 entries, 0 to 23057\n",
      "Data columns (total 30 columns):\n",
      " #   Column                    Non-Null Count  Dtype \n",
      "---  ------                    --------------  ----- \n",
      " 0   Age                       23058 non-null  int64 \n",
      " 1   Attrition                 23058 non-null  object\n",
      " 2   BusinessTravel            23058 non-null  object\n",
      " 3   Department                23058 non-null  object\n",
      " 4   DistanceFromHome          23058 non-null  int64 \n",
      " 5   Education                 23058 non-null  int64 \n",
      " 6   EducationField            23058 non-null  object\n",
      " 7   EnvironmentSatisfaction   23058 non-null  int64 \n",
      " 8   Gender                    23058 non-null  object\n",
      " 9   JobInvolvement            23058 non-null  int64 \n",
      " 10  JobLevel                  23058 non-null  int64 \n",
      " 11  JobRole                   23058 non-null  object\n",
      " 12  JobSatisfaction           23058 non-null  int64 \n",
      " 13  MaritalStatus             23058 non-null  object\n",
      " 14  MonthlyIncome             23058 non-null  int64 \n",
      " 15  NumCompaniesWorked        23058 non-null  int64 \n",
      " 16  OverTime                  23058 non-null  object\n",
      " 17  PercentSalaryHike         23058 non-null  int64 \n",
      " 18  PerformanceRating         23058 non-null  int64 \n",
      " 19  RelationshipSatisfaction  23058 non-null  int64 \n",
      " 20  StockOptionLevel          23058 non-null  int64 \n",
      " 21  TotalWorkingYears         23058 non-null  int64 \n",
      " 22  TrainingTimesLastYear     23058 non-null  int64 \n",
      " 23  WorkLifeBalance           23058 non-null  int64 \n",
      " 24  YearsAtCompany            23058 non-null  int64 \n",
      " 25  YearsInCurrentRole        23058 non-null  int64 \n",
      " 26  YearsSinceLastPromotion   23058 non-null  int64 \n",
      " 27  YearsWithCurrManager      23058 non-null  int64 \n",
      " 28  Employee Source           23058 non-null  object\n",
      " 29  AgeStartedWorking         23058 non-null  int64 \n",
      "dtypes: int64(21), object(9)\n",
      "memory usage: 5.3+ MB\n"
     ]
    }
   ],
   "source": [
    "# Verificando as informações das variáveis do dataset\n",
    "dataset.info()"
   ]
  },
  {
   "cell_type": "code",
   "execution_count": null,
   "metadata": {},
   "outputs": [],
   "source": []
  }
 ],
 "metadata": {
  "kernelspec": {
   "display_name": "base",
   "language": "python",
   "name": "python3"
  },
  "language_info": {
   "codemirror_mode": {
    "name": "ipython",
    "version": 3
   },
   "file_extension": ".py",
   "mimetype": "text/x-python",
   "name": "python",
   "nbconvert_exporter": "python",
   "pygments_lexer": "ipython3",
   "version": "3.9.13"
  }
 },
 "nbformat": 4,
 "nbformat_minor": 2
}
